{
 "cells": [
  {
   "cell_type": "markdown",
   "metadata": {},
   "source": [
    "Question 1:\n",
    "Define Object Oriented Programming Language?"
   ]
  },
  {
   "cell_type": "markdown",
   "metadata": {},
   "source": [
    "Object-oriented programming (OOP) refers to a type of computer programming (software design) in which programmers define not only the data type of a data structure, but also the types of operations (functions) that can be applied to the data structure."
   ]
  },
  {
   "cell_type": "markdown",
   "metadata": {},
   "source": [
    "Question 2:\n",
    "List down the Benefits of OOP?"
   ]
  },
  {
   "cell_type": "markdown",
   "metadata": {},
   "source": [
    "1. Modularity for easier troubleshooting\n",
    "2. Reuse of code through inheritance\n",
    "3. Flexibility through polymorphism\n",
    "4. Effective problem solving"
   ]
  },
  {
   "cell_type": "markdown",
   "metadata": {},
   "source": [
    "Question 3:\n",
    "Differentiate between function and method?"
   ]
  },
  {
   "cell_type": "markdown",
   "metadata": {},
   "source": [
    "A function is a piece of code that is called by name. It can be passed data to operate on (i.e. the parameters) and can optionally return data (the return value). All data that is passed to a function is explicitly passed. A method is a piece of code that is called by a name that is associated with an object."
   ]
  },
  {
   "cell_type": "markdown",
   "metadata": {},
   "source": [
    "Question 4:\n",
    "Define the following terms:\n",
    "1. Class\n",
    "2. Object\n",
    "3. Attribute\n",
    "4. Behavior"
   ]
  },
  {
   "cell_type": "markdown",
   "metadata": {},
   "source": [
    "Class:\n",
    "  A Class is like an object constructor, or a \"blueprint\" for creating objects.\n",
    "\n",
    "Object:\n",
    "    Objects are key to understanding object-oriented technology. You can look around you now and see many examples of real-world objects: your dog, your desk, your television set, your bicycle\n",
    "\n",
    " Attribute:\n",
    " Attributes are data stored inside a class or instance and represent the state or quality of the class or instance. In short, attributes store information about the instance\n",
    "\n",
    "Behavior:\n",
    "  A class's behavior determines how an instance of that class operates; for example, how it will \"react\" if asked to do something by another class or object or if its internal state changes. Behavior is the only way objects can do anything to themselves or have anything done to them\n"
   ]
  },
  {
   "cell_type": "markdown",
   "metadata": {},
   "source": [
    "Question 5:\n",
    "Write a code in python in which create a class named it Car which\n",
    "have 5 attributes such like (model, color and name etc.) and 3\n",
    "methods. And create 5 object instance from that class."
   ]
  },
  {
   "cell_type": "code",
   "execution_count": 19,
   "metadata": {},
   "outputs": [
    {
     "name": "stdout",
     "output_type": "stream",
     "text": [
      "GTR\n",
      "Nismo\n",
      "Black\n",
      "2001\n",
      "80\n",
      "Nissan Old Name\n",
      "Lamborghini Modified Name\n",
      "\n",
      "\n",
      "GTR\n",
      "Nismo\n",
      "Black\n",
      "2001\n",
      "80\n",
      "\n",
      "\n",
      "City\n",
      "Honda\n",
      "yellow\n",
      "2004\n",
      "90\n",
      "E978 Old Numer\n",
      "RT-890r Modified Number\n",
      "\n",
      "\n",
      "Mehran\n",
      "Suzuki\n",
      "Red\n",
      "1995\n",
      "70\n",
      "\n",
      "\n",
      "XTY\n",
      "Nismo\n",
      "Grey\n",
      "2007\n",
      "100\n",
      "700000 Old Price\n",
      "900000 Modified Price\n",
      "\n",
      "\n"
     ]
    }
   ],
   "source": [
    "class Car():\n",
    "    def __init__(self,name,model,color,year, speed_limit):\n",
    "        self.name = name\n",
    "        self.model = model\n",
    "        self.color = color\n",
    "        self.year = year\n",
    "        self.speed_limit = speed_limit\n",
    "        self.carCompany = 'Nissan'\n",
    "        self.numberplate = 'E978'\n",
    "        self.carprice = 700000\n",
    "    def updatecompanyName (self,newName):\n",
    "        self.carCompany = newName\n",
    "    def updatenumberPlate (self, newNumber):\n",
    "        self.numberplate = newNumber\n",
    "    def updatecarPrice (self,newPrice):\n",
    "        self.carprice = newPrice\n",
    "    \n",
    "##instance \n",
    "Car1 = Car('GTR','Nismo','Black',2001,80)\n",
    "print(Car1.name)\n",
    "print(Car1.model)\n",
    "print(Car1.color)\n",
    "print(Car1.year)\n",
    "print(Car1.speed_limit)\n",
    "print(Car1.carCompany,'Old Name')\n",
    "Car1.updatecompanyName('Lamborghini')\n",
    "print(Car1.carCompany,'Modified Name')\n",
    "\n",
    "print('\\n')\n",
    "\n",
    "##instance 2\n",
    "Car2 = Car('Civic','Toyota','White',1994,70)\n",
    "print(Car1.name)\n",
    "print(Car1.model)\n",
    "print(Car1.color)\n",
    "print(Car1.year)\n",
    "print(Car1.speed_limit)\n",
    "print('\\n')\n",
    "\n",
    "##instance 3\n",
    "Car2 = Car('City','Honda','yellow',2004,90)\n",
    "print(Car2.name)\n",
    "print(Car2.model)\n",
    "print(Car2.color)\n",
    "print(Car2.year)\n",
    "print(Car2.speed_limit)\n",
    "print(Car2.numberplate,'Old Numer')\n",
    "Car2.updatenumberPlate('RT-890r')\n",
    "print(Car2.numberplate,'Modified Number')\n",
    "print('\\n')\n",
    "\n",
    "##instance 4\n",
    "Car3 = Car('Mehran','Suzuki','Red',1995,70)\n",
    "print(Car3.name)\n",
    "print(Car3.model)\n",
    "print(Car3.color)\n",
    "print(Car3.year)\n",
    "print(Car3.speed_limit)\n",
    "\n",
    "print('\\n')\n",
    "\n",
    "##instance 5\n",
    "Car4 = Car('XTY','Nismo','Grey',2007,100)\n",
    "print(Car4.name)\n",
    "print(Car4.model)\n",
    "print(Car4.color)\n",
    "print(Car4.year)\n",
    "print(Car4.speed_limit)\n",
    "print(Car4.carprice,'Old Price')\n",
    "Car4.updatecarPrice(900000)\n",
    "print(Car4.carprice,'Modified Price')\n",
    "print('\\n')\n"
   ]
  },
  {
   "cell_type": "code",
   "execution_count": null,
   "metadata": {},
   "outputs": [],
   "source": []
  }
 ],
 "metadata": {
  "kernelspec": {
   "display_name": "Python 3",
   "language": "python",
   "name": "python3"
  },
  "language_info": {
   "codemirror_mode": {
    "name": "ipython",
    "version": 3
   },
   "file_extension": ".py",
   "mimetype": "text/x-python",
   "name": "python",
   "nbconvert_exporter": "python",
   "pygments_lexer": "ipython3",
   "version": "3.7.4"
  }
 },
 "nbformat": 4,
 "nbformat_minor": 2
}
