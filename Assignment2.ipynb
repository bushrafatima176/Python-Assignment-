{
 "cells": [
  {
   "cell_type": "markdown",
   "metadata": {},
   "source": [
    "# Q1. Write a program which takes 5 inputs from user for different subject’s marks, total it and generate mark sheet using grades ? "
   ]
  },
  {
   "cell_type": "code",
   "execution_count": 1,
   "metadata": {},
   "outputs": [
    {
     "name": "stdout",
     "output_type": "stream",
     "text": [
      "Marks of Subject:\n",
      "Enter Math Marks:\n",
      "90\n",
      "Enter Chemistry Marks:\n",
      "78\n",
      "Enter Physics Marks:\n",
      "87\n",
      "Enter English Marks:\n",
      "69\n",
      "Enter Urdu Marks:\n",
      "80\n",
      "Total marks of all subject out of 500:\n",
      " 404\n",
      "Grade A\n"
     ]
    }
   ],
   "source": [
    "print(\"Marks of Subject:\")\n",
    "math=int(input(\"Enter Math Marks:\\n\"));\n",
    "chem=int(input(\"Enter Chemistry Marks:\\n\"));\n",
    "phy=int(input(\"Enter Physics Marks:\\n\"));\n",
    "eng=int(input(\"Enter English Marks:\\n\"));\n",
    "urdu=int(input(\"Enter Urdu Marks:\\n\"));\n",
    "total=math+chem+phy+eng+urdu;\n",
    "per = total*100/500;\n",
    "print(\"Total marks of all subject out of 500:\\n\", total);\n",
    "if(per>=90 and per<=100):\n",
    "    print(\"Grade A+\")\n",
    "elif(per>=80 and per<=89):\n",
    "    print(\"Grade A\")\n",
    "elif(per>=70 and per<=79):\n",
    "    print(\"Grade B\")\n",
    "elif(per>=60 and per<=69):\n",
    "    print(\"Grade C\")\n",
    "elif(per>=50 and per<=59):\n",
    "    print(\"Grade D\")\n",
    "elif(per>=40 and per<=49):\n",
    "    print(\"Grade Fail\")\n",
    "else:\n",
    "    print(\"Invalid Percentage:\\n Please enter valid marks\")\n",
    "    "
   ]
  },
  {
   "cell_type": "markdown",
   "metadata": {},
   "source": [
    "# Q2. Write a program which take input from user and identify that the given number is even or odd?"
   ]
  },
  {
   "cell_type": "code",
   "execution_count": 2,
   "metadata": {},
   "outputs": [
    {
     "name": "stdout",
     "output_type": "stream",
     "text": [
      "Enter a number5\n",
      "Number is Odd\n"
     ]
    }
   ],
   "source": [
    "num=int(input(\"Enter a number\"))\n",
    "if(num%2==0):\n",
    "    print(\"Number is Even\")\n",
    "else:\n",
    "    print(\"Number is Odd\")"
   ]
  },
  {
   "cell_type": "markdown",
   "metadata": {},
   "source": [
    "# Q3. Write a program which print the length of the list? "
   ]
  },
  {
   "cell_type": "code",
   "execution_count": 4,
   "metadata": {},
   "outputs": [
    {
     "data": {
      "text/plain": [
       "8"
      ]
     },
     "execution_count": 4,
     "metadata": {},
     "output_type": "execute_result"
    }
   ],
   "source": [
    "l=[1,3,4,6,7,8,9,'ali']\n",
    "len(l)"
   ]
  },
  {
   "cell_type": "markdown",
   "metadata": {},
   "source": [
    "# Q4. Write a Python program to sum all the numeric items in a list? \n",
    " "
   ]
  },
  {
   "cell_type": "code",
   "execution_count": 6,
   "metadata": {},
   "outputs": [
    {
     "data": {
      "text/plain": [
       "72"
      ]
     },
     "execution_count": 6,
     "metadata": {},
     "output_type": "execute_result"
    }
   ],
   "source": [
    "l=[1,5,6,8,46,4,2]\n",
    "sum(l)"
   ]
  },
  {
   "cell_type": "markdown",
   "metadata": {},
   "source": [
    "# Q5. Write a Python program to get the largest number from a numeric list. \n",
    " "
   ]
  },
  {
   "cell_type": "code",
   "execution_count": 7,
   "metadata": {},
   "outputs": [
    {
     "data": {
      "text/plain": [
       "87"
      ]
     },
     "execution_count": 7,
     "metadata": {},
     "output_type": "execute_result"
    }
   ],
   "source": [
    "l=[3,4,5,6,25,87,56]\n",
    "max(l)"
   ]
  },
  {
   "cell_type": "markdown",
   "metadata": {},
   "source": [
    "# Q6. Take a list, say for example this one:a = [1, 1, 2, 3, 5, 8, 13, 21, 34, 55, 89] and write a program that prints out all the elements of the list that are less than 5."
   ]
  },
  {
   "cell_type": "code",
   "execution_count": 8,
   "metadata": {},
   "outputs": [
    {
     "data": {
      "text/plain": [
       "[1, 1, 2, 3]"
      ]
     },
     "execution_count": 8,
     "metadata": {},
     "output_type": "execute_result"
    }
   ],
   "source": [
    "a =[1,1,2,3,5,8,13,21,34,55,89]\n",
    "b=[]\n",
    "for i in a:\n",
    "    if(i<5):\n",
    "        b.append(i)\n",
    "b"
   ]
  },
  {
   "cell_type": "code",
   "execution_count": null,
   "metadata": {},
   "outputs": [],
   "source": []
  }
 ],
 "metadata": {
  "kernelspec": {
   "display_name": "Python 3",
   "language": "python",
   "name": "python3"
  },
  "language_info": {
   "codemirror_mode": {
    "name": "ipython",
    "version": 3
   },
   "file_extension": ".py",
   "mimetype": "text/x-python",
   "name": "python",
   "nbconvert_exporter": "python",
   "pygments_lexer": "ipython3",
   "version": "3.7.4"
  }
 },
 "nbformat": 4,
 "nbformat_minor": 2
}
